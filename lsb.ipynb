{
 "cells": [
  {
   "cell_type": "markdown",
   "metadata": {},
   "source": [
    "导入库，读入数据，定义lsb隐写的基本函数"
   ]
  },
  {
   "cell_type": "code",
   "execution_count": 57,
   "metadata": {},
   "outputs": [],
   "source": [
    "import matplotlib.pyplot as plt\n",
    "import numpy as np\n",
    "import PIL.Image as Image\n",
    "import random\n",
    "from scipy.stats import chi2\n",
    "\n",
    "# 读取图片的像素信息\n",
    "car_picture = Image.open('carrier.png').convert('L')\n",
    "# picture = Image.open('carrier.png') #可以实现三通道彩色图lsb隐写\n",
    "\n",
    "pic_data = np.array(car_picture)\n",
    "gray_im = Image.fromarray(pic_data)\n",
    "gray_im.save('grey_carrier.png')\n",
    "\n",
    "# 读取要隐写的文件\n",
    "with open('secret.txt', encoding=\"utf-8\") as file:\n",
    "    secrets = file.read()\n",
    "\n",
    "def cover_lsb(bin_index, data_i_bin):\n",
    "    '''\n",
    "    :param bin_index:  当前字符的ascii的二进制\n",
    "    :param data_i_bin: 取出隐写像素的八个数值\n",
    "    :return: LSB隐写后的像素值\n",
    "    '''\n",
    "    if bin_index == '0':\n",
    "        data_i_bin = data_i_bin[0:7] + '0'\n",
    "    elif bin_index == '1':\n",
    "        data_i_bin = data_i_bin[0:7] + '1'\n",
    "    return data_i_bin\n",
    "\n",
    "def lsb_decode(data):\n",
    "    str = ''\n",
    "    for i in range(len(data)):\n",
    "        data_i_bin = bin(data[i])[2:][-1]\n",
    "        str += data_i_bin\n",
    "    return str"
   ]
  },
  {
   "cell_type": "markdown",
   "metadata": {},
   "source": [
    "使用一般LSB隐写"
   ]
  },
  {
   "cell_type": "code",
   "execution_count": 76,
   "metadata": {},
   "outputs": [],
   "source": [
    "#lsb加密\n",
    "portion = 0.5 # 此处设置嵌入率\n",
    "im_data = np.array(car_picture.copy()).ravel().tolist()\n",
    "pic_idx = 0\n",
    "#横向取数据，每次取8个数据，改变8个像素最低位\n",
    "res_data = []\n",
    "num = int(portion*len(im_data)/(8*len(secrets))) #按照嵌入率循环嵌入秘密文件的轮数\n",
    "for i in range(num):\n",
    "    for j in range(len(secrets)):\n",
    "        # 拿到隐写文件的字符ascii数值, 并转换为二进制,填充成八位\n",
    "        index = ord(secrets[j])\n",
    "        bin_index = bin(index)[2:].zfill(8)\n",
    "        # 对数据进行LSB隐写，替换操作\n",
    "        res = []\n",
    "        for k in range(8):\n",
    "            data_i_bin = bin(im_data[pic_idx * 8 + k])[2:].zfill(8)\n",
    "            res.append(int(cover_lsb(bin_index[k], data_i_bin),2))\n",
    "        pic_idx += 1\n",
    "        res_data += res\n",
    "# 对剩余未填充的数据进行补充填充，防止图像无法恢复\n",
    "res_data += im_data[pic_idx * 8:]\n",
    "\n",
    "# 将新生成的文件进行格式转换并保存，此处一定保存为不压缩的png文件\n",
    "new_im_data = np.array(res_data).astype(np.uint8).reshape((pic_data.shape))\n",
    "res_im = Image.fromarray(new_im_data)\n",
    "res_im.save('res_encode.png')"
   ]
  },
  {
   "cell_type": "code",
   "execution_count": null,
   "metadata": {},
   "outputs": [],
   "source": [
    "# lsb解密\n",
    "# 打开隐写文件\n",
    "picture = Image.open('res_encode.png')\n",
    "pic_datas = np.array(picture).ravel().tolist()\n",
    "\n",
    "# 字符的长度为4893\n",
    "with open('secret.txt', encoding=\"utf-8\") as file:\n",
    "    secrets = file.read()\n",
    "\n",
    "str_len = len(secrets)\n",
    "print('字符的长度为：', str_len)\n",
    "\n",
    "# 将图片拷贝一份，作为最终的图片数据\n",
    "im_data = np.array(picture.copy()).ravel().tolist()\n",
    "\n",
    "pic_idx = 0\n",
    "# 采用LSB隐写技术，横向取数据，每次取9个数据，改变8个像素最低位\n",
    "res_data = []\n",
    "for j in range(num):\n",
    "    for i in range(len(secrets)):\n",
    "        # 拿到第i个数据,转换成二进制\n",
    "        data = im_data[(pic_idx+i) * 8: (pic_idx + i + 1) * 8]\n",
    "        data_int = lsb_decode(data)\n",
    "        # 找到最低位\n",
    "        res_data.append(int(data_int, 2))\n",
    "\n",
    "# 将二进制数据转换成ASCII\n",
    "str_data = ''\n",
    "for i in res_data:\n",
    "    temp = chr(i)\n",
    "    str_data += temp\n",
    "print(str_data)"
   ]
  },
  {
   "cell_type": "markdown",
   "metadata": {},
   "source": [
    "改进LSB（随机LSB）"
   ]
  },
  {
   "cell_type": "code",
   "execution_count": 74,
   "metadata": {},
   "outputs": [],
   "source": [
    "#lsb加密\n",
    "module = 2 #随机嵌入的模数\n",
    "random.seed(2156)\n",
    "\n",
    "im_data = np.array(car_picture.copy()).ravel().tolist()\n",
    "pic_idx = 0\n",
    "# 采用LSB隐写技术，横向取数据，每次取8个数据，改变8个像素最低位\n",
    "res_data = []\n",
    "portion = 1/module # 嵌入率\n",
    "num = int(portion*len(im_data)/(8*len(secrets)))\n",
    "for i in range(num):\n",
    "    for j in range(len(secrets)):\n",
    "        # 拿到隐写文件的字符ascii数值, 并转换为二进制,填充成八位\n",
    "        index = ord(secrets[j])\n",
    "        bin_index = bin(index)[2:].zfill(8)\n",
    "\n",
    "        temp = random.sample(range(0 , 8 * module), 8)\n",
    "        # 对数据进行LSB隐写，替换操作\n",
    "\n",
    "        for k in range(8):\n",
    "            data_i_bin = bin(im_data[pic_idx * 8 * module + temp[k]])[2:].zfill(8)\n",
    "            data_i_bin = cover_lsb(bin_index[k], data_i_bin)\n",
    "            im_data[pic_idx * 8 * module + temp[k]] = (int(data_i_bin, 2))\n",
    "\n",
    "        pic_idx += 1\n",
    "\n",
    "# 将新生成的文件进行格式转换并保存，此处一定保存为不压缩的png文件\n",
    "new_im_data = np.array(im_data).astype(np.uint8).reshape((pic_data.shape))\n",
    "res_im = Image.fromarray(new_im_data)\n",
    "res_im.save('res_encode.png')"
   ]
  },
  {
   "cell_type": "code",
   "execution_count": null,
   "metadata": {},
   "outputs": [],
   "source": [
    "# lsb解密\n",
    "random.seed(2156)\n",
    "\n",
    "# 打开隐写文件\n",
    "picture = Image.open('res_encode.png')\n",
    "pic_datas = np.array(picture.copy()).ravel().tolist()\n",
    "\n",
    "# 字符的长度为4893\n",
    "with open('secret.txt', encoding=\"utf-8\") as file:\n",
    "    secrets = file.read()\n",
    "\n",
    "str_len = len(secrets)\n",
    "print('字符的长度为：', str_len)\n",
    "\n",
    "pic_idx = 0\n",
    "# 采用LSB隐写技术，横向取数据，每次取9个数据，改变8个像素最低位\n",
    "res_data = []\n",
    "# module = 2 #随机嵌入的模数\n",
    "# portion = 1/module # 嵌入率\n",
    "# num = int(portion*len(im_data)/(8*str_len))\n",
    "\n",
    "for j in range(num):\n",
    "    for i in range(len(secrets)):\n",
    "        # 拿到第i个数据,转换成二进制\n",
    "        temp = random.sample(range(0, 8 * module), 8)\n",
    "        # 对数据进行LSB隐写，替换操作\n",
    "        temp_data = []\n",
    "        for k in range(8):\n",
    "            temp_data.append(pic_datas[pic_idx * 8 * module + temp[k]])\n",
    "        data_int = lsb_decode(temp_data)\n",
    "        pic_idx += 1\n",
    "        # 找到最低位\n",
    "        res_data.append(int(data_int, 2))\n",
    "\n",
    "# 将二进制数据转换成ASCII\n",
    "str_data = ''\n",
    "for i in res_data:\n",
    "    temp = chr(i)\n",
    "    str_data += temp\n",
    "print(str_data)"
   ]
  },
  {
   "cell_type": "markdown",
   "metadata": {},
   "source": [
    "灰度直方图对比，以及基于卡方的隐写分析"
   ]
  },
  {
   "cell_type": "code",
   "execution_count": 77,
   "metadata": {},
   "outputs": [
    {
     "name": "stdout",
     "output_type": "stream",
     "text": [
      "载体图像的r值：555.9948149299776,\t p值：0.0\n",
      "隐写图像的r值：272.1792349566527,\t p值：1.3385959007905512e-12\n"
     ]
    },
    {
     "data": {
      "image/png": "[encoded data removed]",
      "text/plain": [
       "<Figure size 1500x800 with 1 Axes>"
      ]
     },
     "metadata": {},
     "output_type": "display_data"
    }
   ],
   "source": [
    "# 读取图片的像素信息\n",
    "picture_ = Image.open('res_encode.png')\n",
    "\n",
    "pic_data_ = np.array(picture_)\n",
    "im_data = np.array(car_picture.copy())\n",
    "kwargs = dict(alpha=0.5, bins=256)\n",
    "plt.figure(figsize=(15, 8))\n",
    "n1,bins1,patches1 = plt.hist(im_data.ravel(), **kwargs);\n",
    "n2,bins2,patches2 = plt.hist(pic_data_.ravel(), **kwargs);\n",
    "plt.title('RUNOOB hist() TEST')\n",
    "plt.xlabel('Value')\n",
    "plt.ylabel('Frequency')\n",
    "plt.legend([\"carrier\", \"encode\"])\n",
    "\n",
    "def cal_rp(data_list):\n",
    "    r = 0\n",
    "    for i in range(0,256,2):\n",
    "        h2i = (data_list[i]+data_list[i+1])/2\n",
    "        r += ((data_list[i]-h2i)**2)/h2i\n",
    "    p = 1.0 - chi2.cdf(r,127)\n",
    "    return r, p\n",
    "\n",
    "r1, p1 = cal_rp(n1)\n",
    "r2, p2 = cal_rp(n2)\n",
    "print(\"载体图像的r值：\"+str(r1)+\",\\t p值：\"+str(p1))\n",
    "print(\"隐写图像的r值：\"+str(r2)+\",\\t p值：\"+str(p2))"
   ]
  }
 ],
 "metadata": {
  "kernelspec": {
   "display_name": "Python 3.8.5 64-bit",
   "language": "python",
   "name": "python3"
  },
  "language_info": {
   "codemirror_mode": {
    "name": "ipython",
    "version": 3
   },
   "file_extension": ".py",
   "mimetype": "text/x-python",
   "name": "python",
   "nbconvert_exporter": "python",
   "pygments_lexer": "ipython3",
   "version": "3.8.5"
  },
  "orig_nbformat": 4,
  "vscode": {
   "interpreter": {
    "hash": "8384712f827c73b71ec1d871aaffaaf3604c18a78a335b5adcc2028fc4cb4b02"
   }
  }
 },
 "nbformat": 4,
 "nbformat_minor": 2
}
